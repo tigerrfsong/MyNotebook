{
  "nbformat": 4,
  "nbformat_minor": 0,
  "metadata": {
    "colab": {
      "provenance": []
    },
    "kernelspec": {
      "name": "python3",
      "display_name": "Python 3"
    },
    "language_info": {
      "name": "python"
    }
  },
  "cells": [
    {
      "cell_type": "code",
      "execution_count": null,
      "metadata": {
        "colab": {
          "base_uri": "https://localhost:8080/"
        },
        "id": "TScDSk65x5ZP",
        "outputId": "a82cadec-dcc0-42a4-c65d-9945e7953570"
      },
      "outputs": [
        {
          "output_type": "stream",
          "name": "stdout",
          "text": [
            "emma\n",
            "dad\n",
            "mom\n",
            "tina\n",
            "ada\n",
            "jason\n",
            "slsdd\n"
          ]
        }
      ],
      "source": [
        "print(\"emma\")\n",
        "print(\"dad\")\n",
        "print(\"mom\")\n",
        "print(\"tina\")\n",
        "print(\"ada\")\n",
        "print(\"jason\")\n",
        "\n",
        "print(\"slsdd\")\n",
        "\n",
        "print(\"abc\")"
      ]
    }
  ]
}